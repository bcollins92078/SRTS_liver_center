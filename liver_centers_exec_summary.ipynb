{
 "cells": [
  {
   "cell_type": "markdown",
   "metadata": {
    "slideshow": {
     "slide_type": "slide"
    }
   },
   "source": [
    "# Macro Analysis of Liver Transplant Centers' Performance\n",
    "\n",
    "The purpose of this executive summary is to share some findings from a macro-level analysis of liver transplant programs based on public information published by SRTR in program-specific reports (PSRs). The specific question that motivated this exercise is the following: Is the rate at which an adult liver transplant program accepts deceased donor organ offers correlated to the programs overall outcomes? While there is an obvious trade-off between time on waitlist and deceased donor organ quality accepted for transplant, it is not obvious what organ acceptance policy is optimal. This analysis attempts to gain insights by looking at variations in liver transplant program performance.\n",
    "\n",
    "In order to address this question as simply as possible a metric for \"overall program outcomes\" was devised. SRTR uses three metrics to rate liver transplant programs: 1) survival on the waitlist, 2) getting a deceased donor transplant faster and 3) 1-year liver survival (post transplant). Instead of complicating the analysis by using three separate metrics this analysis rates transplant programs using a single metric calculated by essentially taking the total number of patients that receive a deceased donor liver transplant and survive for one year during the \"observation period\" and dividing that number by the total number of patients in the program during that period. There _are_ details that are worth further explanation but for the sake of brevity of this executive summary these details are deferred to the last chart.\n",
    "\n",
    "The following few charts summarize the primary findings of this analysis."
   ]
  },
  {
   "cell_type": "code",
   "execution_count": 1,
   "metadata": {
    "slideshow": {
     "slide_type": "skip"
    },
    "tags": [
     "hide_input"
    ]
   },
   "outputs": [],
   "source": [
    "\n",
    "# import all packages and set plots to be embedded inline\n",
    "import numpy as np\n",
    "import pandas as pd\n",
    "import matplotlib.pyplot as plt\n",
    "import seaborn as sb\n",
    "import re\n",
    "import datetime\n",
    "import json\n",
    "import zipfile\n",
    "import os\n",
    "\n",
    "from matplotlib.ticker import FormatStrFormatter\n",
    "\n",
    "%matplotlib inline"
   ]
  },
  {
   "cell_type": "code",
   "execution_count": 2,
   "metadata": {
    "slideshow": {
     "slide_type": "skip"
    },
    "tags": [
     "hide_input"
    ]
   },
   "outputs": [
    {
     "data": {
      "text/html": [
       "<div>\n",
       "<style scoped>\n",
       "    .dataframe tbody tr th:only-of-type {\n",
       "        vertical-align: middle;\n",
       "    }\n",
       "\n",
       "    .dataframe tbody tr th {\n",
       "        vertical-align: top;\n",
       "    }\n",
       "\n",
       "    .dataframe thead th {\n",
       "        text-align: right;\n",
       "    }\n",
       "</style>\n",
       "<table border=\"1\" class=\"dataframe\">\n",
       "  <thead>\n",
       "    <tr style=\"text-align: right;\">\n",
       "      <th></th>\n",
       "      <th>Unnamed: 0</th>\n",
       "      <th>CenterName</th>\n",
       "      <th>WL_start_2018</th>\n",
       "      <th>WL_start_2017</th>\n",
       "      <th>WL_start_2016</th>\n",
       "      <th>WL_adds_2018</th>\n",
       "      <th>WL_adds_2017</th>\n",
       "      <th>WL_adds_2016</th>\n",
       "      <th>WL_xfer_2018</th>\n",
       "      <th>WL_xfer_2017</th>\n",
       "      <th>...</th>\n",
       "      <th>Outlier</th>\n",
       "      <th>mean_time_to_xplant</th>\n",
       "      <th>TR_meld_6-10</th>\n",
       "      <th>TR_meld_11-14</th>\n",
       "      <th>TR_meld_15-20</th>\n",
       "      <th>TR_meld_21-30</th>\n",
       "      <th>TR_meld_31-40</th>\n",
       "      <th>TR_status1A</th>\n",
       "      <th>optn_region</th>\n",
       "      <th>intercept</th>\n",
       "    </tr>\n",
       "  </thead>\n",
       "  <tbody>\n",
       "    <tr>\n",
       "      <td>0</td>\n",
       "      <td>ALUA</td>\n",
       "      <td>\"University of Alabama Hospital\"</td>\n",
       "      <td>114</td>\n",
       "      <td>78</td>\n",
       "      <td>113</td>\n",
       "      <td>204</td>\n",
       "      <td>204</td>\n",
       "      <td>140</td>\n",
       "      <td>5</td>\n",
       "      <td>0</td>\n",
       "      <td>...</td>\n",
       "      <td>False</td>\n",
       "      <td>5.6</td>\n",
       "      <td>13.4</td>\n",
       "      <td>18.5</td>\n",
       "      <td>31.9</td>\n",
       "      <td>19.3</td>\n",
       "      <td>15.1</td>\n",
       "      <td>1.7</td>\n",
       "      <td>3</td>\n",
       "      <td>1</td>\n",
       "    </tr>\n",
       "    <tr>\n",
       "      <td>1</td>\n",
       "      <td>ARUA</td>\n",
       "      <td>\"UAMS Medical Center\"</td>\n",
       "      <td>55</td>\n",
       "      <td>31</td>\n",
       "      <td>42</td>\n",
       "      <td>54</td>\n",
       "      <td>65</td>\n",
       "      <td>52</td>\n",
       "      <td>1</td>\n",
       "      <td>1</td>\n",
       "      <td>...</td>\n",
       "      <td>False</td>\n",
       "      <td>6.9</td>\n",
       "      <td>8.1</td>\n",
       "      <td>16.2</td>\n",
       "      <td>32.4</td>\n",
       "      <td>27.0</td>\n",
       "      <td>16.2</td>\n",
       "      <td>0.0</td>\n",
       "      <td>3</td>\n",
       "      <td>1</td>\n",
       "    </tr>\n",
       "    <tr>\n",
       "      <td>2</td>\n",
       "      <td>AZGS</td>\n",
       "      <td>\"Banner-University Medical Center Phoenix\"</td>\n",
       "      <td>51</td>\n",
       "      <td>80</td>\n",
       "      <td>78</td>\n",
       "      <td>140</td>\n",
       "      <td>108</td>\n",
       "      <td>113</td>\n",
       "      <td>1</td>\n",
       "      <td>3</td>\n",
       "      <td>...</td>\n",
       "      <td>False</td>\n",
       "      <td>9.1</td>\n",
       "      <td>14.2</td>\n",
       "      <td>15.0</td>\n",
       "      <td>20.8</td>\n",
       "      <td>17.5</td>\n",
       "      <td>31.7</td>\n",
       "      <td>0.8</td>\n",
       "      <td>5</td>\n",
       "      <td>1</td>\n",
       "    </tr>\n",
       "    <tr>\n",
       "      <td>3</td>\n",
       "      <td>AZMC</td>\n",
       "      <td>\"Mayo Clinic Hospital\"</td>\n",
       "      <td>112</td>\n",
       "      <td>126</td>\n",
       "      <td>160</td>\n",
       "      <td>145</td>\n",
       "      <td>127</td>\n",
       "      <td>130</td>\n",
       "      <td>3</td>\n",
       "      <td>5</td>\n",
       "      <td>...</td>\n",
       "      <td>False</td>\n",
       "      <td>4.2</td>\n",
       "      <td>16.4</td>\n",
       "      <td>23.4</td>\n",
       "      <td>27.3</td>\n",
       "      <td>20.3</td>\n",
       "      <td>9.4</td>\n",
       "      <td>3.1</td>\n",
       "      <td>5</td>\n",
       "      <td>1</td>\n",
       "    </tr>\n",
       "    <tr>\n",
       "      <td>4</td>\n",
       "      <td>AZSJ</td>\n",
       "      <td>\"St. Joseph's Hospital and Medical Center\"</td>\n",
       "      <td>13</td>\n",
       "      <td>10</td>\n",
       "      <td>6</td>\n",
       "      <td>41</td>\n",
       "      <td>23</td>\n",
       "      <td>23</td>\n",
       "      <td>1</td>\n",
       "      <td>1</td>\n",
       "      <td>...</td>\n",
       "      <td>False</td>\n",
       "      <td>8.7</td>\n",
       "      <td>22.7</td>\n",
       "      <td>9.1</td>\n",
       "      <td>18.2</td>\n",
       "      <td>40.9</td>\n",
       "      <td>9.1</td>\n",
       "      <td>0.0</td>\n",
       "      <td>5</td>\n",
       "      <td>1</td>\n",
       "    </tr>\n",
       "  </tbody>\n",
       "</table>\n",
       "<p>5 rows × 42 columns</p>\n",
       "</div>"
      ],
      "text/plain": [
       "  Unnamed: 0                                  CenterName  WL_start_2018  \\\n",
       "0       ALUA            \"University of Alabama Hospital\"            114   \n",
       "1       ARUA                       \"UAMS Medical Center\"             55   \n",
       "2       AZGS  \"Banner-University Medical Center Phoenix\"             51   \n",
       "3       AZMC                      \"Mayo Clinic Hospital\"            112   \n",
       "4       AZSJ  \"St. Joseph's Hospital and Medical Center\"             13   \n",
       "\n",
       "   WL_start_2017  WL_start_2016  WL_adds_2018  WL_adds_2017  WL_adds_2016  \\\n",
       "0             78            113           204           204           140   \n",
       "1             31             42            54            65            52   \n",
       "2             80             78           140           108           113   \n",
       "3            126            160           145           127           130   \n",
       "4             10              6            41            23            23   \n",
       "\n",
       "   WL_xfer_2018  WL_xfer_2017  ...  Outlier  mean_time_to_xplant  \\\n",
       "0             5             0  ...    False                  5.6   \n",
       "1             1             1  ...    False                  6.9   \n",
       "2             1             3  ...    False                  9.1   \n",
       "3             3             5  ...    False                  4.2   \n",
       "4             1             1  ...    False                  8.7   \n",
       "\n",
       "   TR_meld_6-10  TR_meld_11-14  TR_meld_15-20  TR_meld_21-30  TR_meld_31-40  \\\n",
       "0          13.4           18.5           31.9           19.3           15.1   \n",
       "1           8.1           16.2           32.4           27.0           16.2   \n",
       "2          14.2           15.0           20.8           17.5           31.7   \n",
       "3          16.4           23.4           27.3           20.3            9.4   \n",
       "4          22.7            9.1           18.2           40.9            9.1   \n",
       "\n",
       "   TR_status1A  optn_region  intercept  \n",
       "0          1.7            3          1  \n",
       "1          0.0            3          1  \n",
       "2          0.8            5          1  \n",
       "3          3.1            5          1  \n",
       "4          0.0            5          1  \n",
       "\n",
       "[5 rows x 42 columns]"
      ]
     },
     "execution_count": 2,
     "metadata": {},
     "output_type": "execute_result"
    }
   ],
   "source": [
    "# read csv with collected liver transplant centers' data into a dataframe \n",
    "liver_centers = pd.read_csv('liver_centers.csv')\n",
    "liver_centers.head()"
   ]
  },
  {
   "cell_type": "code",
   "execution_count": 3,
   "metadata": {
    "slideshow": {
     "slide_type": "slide"
    },
    "tags": [
     "hide_input"
    ]
   },
   "outputs": [
    {
     "data": {
      "image/png": "[encoded data removed]",
      "text/plain": [
       "<Figure size 864x288 with 3 Axes>"
      ]
     },
     "metadata": {
      "needs_background": "light"
     },
     "output_type": "display_data"
    }
   ],
   "source": [
    "# Scatter plot OfferAcceptRatio against Metric\n",
    "fig, axes = plt.subplots(1,2,squeeze=False,figsize = (12,4))\n",
    "plt.sca(axes[0,0])\n",
    "sb.regplot(data=liver_centers[(liver_centers.very_small == False)], x='OfferAcceptRatio', y='Metric')\n",
    "plt.title('All Liver Transplant Programs')\n",
    "plt.xlabel('Offer Acceptance Ratio')\n",
    "plt.ylabel('Outcomes Metric')\n",
    "\n",
    "# Scatter plot OfferAcceptRatio against Metric for region 5 only\n",
    "plt.sca(axes[0,1])\n",
    "#sb.regplot(data=liver_centers[(liver_centers.very_small == False) & (liver_centers.optn_region == 5)], x='OfferAcceptRatio', y='Metric')\n",
    "plt.scatter(data=liver_centers[(liver_centers.very_small == False) & (liver_centers.optn_region == 5)], x='OfferAcceptRatio', y='Metric', s='TR_1yr_eval', c='TR_meld_31-40')\n",
    "plt.set_cmap('cividis_r')\n",
    "plt.colorbar()\n",
    "plt.ylim(bottom=0.17, top=0.93)\n",
    "plt.xlim(right=3.5)\n",
    "plt.title('Region 5 Programs Only')\n",
    "plt.xlabel('Offer Acceptance Ratio')\n",
    "plt.ylabel('Outcomes Metric');"
   ]
  },
  {
   "cell_type": "markdown",
   "metadata": {
    "slideshow": {
     "slide_type": "fragment"
    }
   },
   "source": [
    "These two scatter plots illustrate the primary findings from this exercise. The plot on the left shows outcomes metric vs Offer Acceptance Ratio for all 115 liver transplant programs. The Offer Acceptance Ratio is a metric published in the PSR to indicate whether the program is more or less likely to accept donated organ offers than the average program. A linear regression line is included along with 95% confidence interval. This plot illustrates the positive correlation between the outcomes metric and offer acceptance ratio (correlation coeficient of 0.48).\n",
    "\n",
    "The right scatter plot only contains liver transplant programs in OPTN Region 5. The horizontal and vertical axes are the same but this plot has additional variables encoded. The size of each marker is encoded with the number of deceased donor transplants evaluated in the latest PSR (i.e., size of the program). The color of each marker is encoded with the percentage of patients transplanted that had a MELD between 31 and 40 at the time of transplant (i.e., how sick patients were at time of transplant). "
   ]
  },
  {
   "cell_type": "markdown",
   "metadata": {
    "slideshow": {
     "slide_type": "slide"
    }
   },
   "source": [
    "## Conclusions\n",
    "This macro-level analysis of liver transplant center outcomes suggests that programs with a higher deceased donor organ offer acceptance ratio generally have better overall outcomes. Of course the medical team's professional evaluation of the medical characteristics of the transplant recepient and organ donor must ultimately guide any offer acceptance decision; however, I believe that data science can provide meaningful support. Humans are generally not very adept at systematically evaluating large numbers of parameters in making optimal decisions whereas it has been demonstrated that computers executing machine learning algorithms can process large amounts of data and find important correlations. I believe that this technology can be applied to the full SRTR database and provide insights into which deceased donor livers that might be considered marginal can in fact be promising matches given certain transplant recepient characteristics. With these types of insights a liver transplant program could potentially increase its offer acceptance ratio, increase its transplant rate, reduce mean time on transplant waitlist, reduce its percentage of high MELD scores at transplant and improve overall outcomes. \n",
    "\n",
    "The entire exploratory data analysis is available along with all of the other scripts used to extract, clean and analyze the data in [GitHub](https://github.com/bcollins92078/SRTS_liver_center)."
   ]
  },
  {
   "cell_type": "markdown",
   "metadata": {
    "slideshow": {
     "slide_type": "slide"
    }
   },
   "source": [
    "<a id='metric'></a>\n",
    "## Liver Transplant Center Outcomes Metric\n",
    "\n",
    "The \"overall outcomes metric\" used in this analysis uses the one-year transplant survival data in the PSRs in Table C6. This data is based on a 2.5 year observation period and more time resolution does not appear to be available from this source. This metric takes the one-year transplant survival counts as the primary program \"successes\" but also counts recoveries while on the waitlist as successful outcomes. These are the counts of patients whose conditions improve while on the waitlist to the point that they no longer need a transplant. Recoveries are reported in Table B1 with resolution to 1 year. The sum of one-year transplant survivals (reported for 01/01/2016 thru 06/30/2018) and the recoveries for the 2 years 2016 and 2017 form the numerator of the outcomes metric. The denominator is formed by summing the number of patients on the waitlist at the start of 2016, the waitlist additions in 2016 and 2017, then subtracting the patients that transferred care elsewhere or received a transplant at another center in 2016 and 2017. All of these counts for the denominator come from Table B1 and are reported with one-year resolution. So note that the numerator and denominator do _not_ line up perfectly in time. Also note that waitlist removals due to deaths and patients condition deterioration effectively count _against_ the programs overall outcomes metric just as failed transplants do."
   ]
  }
 ],
 "metadata": {
  "kernelspec": {
   "display_name": "Python 3",
   "language": "python",
   "name": "python3"
  },
  "language_info": {
   "codemirror_mode": {
    "name": "ipython",
    "version": 3
   },
   "file_extension": ".py",
   "mimetype": "text/x-python",
   "name": "python",
   "nbconvert_exporter": "python",
   "pygments_lexer": "ipython3",
   "version": "3.7.4"
  }
 },
 "nbformat": 4,
 "nbformat_minor": 4
}
