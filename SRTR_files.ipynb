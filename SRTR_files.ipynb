{
 "cells": [
  {
   "cell_type": "markdown",
   "metadata": {},
   "source": [
    "# SRTR Program-Specific Reports Data Collection\n",
    "\n",
    "The goal of this notebook is to develop code for reading SRTR Program-Specific Reports (PSRs) in PDF format, extracting the tabular data and writing to csv files. Archived PSR files in PDF format for liver transplant are assumed be have been downloaded and extracted into a folder named 'reports_10-2018'. Transplant center code is assumed to be encoded into the filename as the first 4 letters.\n"
   ]
  },
  {
   "cell_type": "code",
   "execution_count": 1,
   "metadata": {},
   "outputs": [],
   "source": [
    "# import all packages and set plots to be embedded inline\n",
    "import numpy as np\n",
    "import pandas as pd\n",
    "import matplotlib.pyplot as plt\n",
    "import seaborn as sb\n",
    "import re\n",
    "import datetime\n",
    "import camelot\n",
    "import json\n",
    "import zipfile\n",
    "import os\n",
    "\n",
    "from matplotlib.ticker import FormatStrFormatter\n",
    "\n",
    "%matplotlib inline"
   ]
  },
  {
   "cell_type": "code",
   "execution_count": 4,
   "metadata": {},
   "outputs": [
    {
     "name": "stdout",
     "output_type": "stream",
     "text": [
      "reports_07-2019\\socal\\AZMCTX1LI201905PNEW.pdf : 26 tables\n",
      "reports_07-2019\\socal\\CACSTX1LI201905PNEW.pdf : 31 tables\n",
      "reports_07-2019\\socal\\CAGHTX1LI201905PNEW.pdf : 29 tables\n",
      "reports_07-2019\\socal\\CALLTX1LI201905PNEW.pdf : 28 tables\n",
      "reports_07-2019\\socal\\CASDTX1LI201905PNEW.pdf : 29 tables\n",
      "reports_07-2019\\socal\\CAUCTX1LI201905PNEW.pdf : 27 tables\n",
      "reports_07-2019\\socal\\CAUHTX1LI201905PNEW.pdf : 27 tables\n"
     ]
    }
   ],
   "source": [
    "directory = 'reports_07-2019\\\\socal\\\\'\n",
    "center_list = []\n",
    "\n",
    "for filename in os.listdir(directory):\n",
    "    if filename.endswith(\".pdf\"):\n",
    "        center_code = filename[0:4]\n",
    "        path_filename = directory + filename\n",
    "        tables = camelot.read_pdf(path_filename, flavor='stream', \n",
    "                              pages='1,6,7,8,9,10,11,12,13,14,15,16,17,19,21,23,25,27,28,29,30,31,32,33,34,35')\n",
    "        print(path_filename,':',tables.n, 'tables')\n",
    "        # build a log file name\n",
    "        log_name = path_filename[:-4] + '.log'\n",
    "        with open(log_name, 'w+', encoding='utf-8', newline='',) as file: \n",
    "            # log parsing_report for each table \n",
    "            for i in range(tables.n):\n",
    "                file.write(json.dumps(tables[i].parsing_report))\n",
    "                file.write('\\n')\n",
    "\n",
    "        csv_name = path_filename[:-4] + '.csv'\n",
    "        tables.export(csv_name, f='csv', compress=True)\n",
    "        center_list.append(center_code)"
   ]
  },
  {
   "cell_type": "code",
   "execution_count": 5,
   "metadata": {},
   "outputs": [
    {
     "name": "stdout",
     "output_type": "stream",
     "text": [
      "['AZMC', 'CACS', 'CAGH', 'CALL', 'CASD', 'CAUC', 'CAUH']\n"
     ]
    }
   ],
   "source": [
    "print(center_list)"
   ]
  },
  {
   "cell_type": "code",
   "execution_count": null,
   "metadata": {},
   "outputs": [],
   "source": []
  }
 ],
 "metadata": {
  "kernelspec": {
   "display_name": "Python 3",
   "language": "python",
   "name": "python3"
  },
  "language_info": {
   "codemirror_mode": {
    "name": "ipython",
    "version": 3
   },
   "file_extension": ".py",
   "mimetype": "text/x-python",
   "name": "python",
   "nbconvert_exporter": "python",
   "pygments_lexer": "ipython3",
   "version": "3.7.4"
  }
 },
 "nbformat": 4,
 "nbformat_minor": 2
}
